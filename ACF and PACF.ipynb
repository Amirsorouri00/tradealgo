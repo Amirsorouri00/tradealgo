{
 "cells": [
  {
   "cell_type": "code",
   "execution_count": 1,
   "id": "dc987ffe",
   "metadata": {},
   "outputs": [],
   "source": [
    "import pandas as pd\n",
    "import numpy as np\n",
    "from statsmodels.tsa.stattools import adfuller\n",
    "import matplotlib.pyplot as plt\n",
    "from pandas.plotting import register_matplotlib_converters\n",
    "from statsmodels.graphics.tsaplots import plot_acf, plot_pacf\n",
    "register_matplotlib_converters()"
   ]
  },
  {
   "cell_type": "code",
   "execution_count": 2,
   "id": "5881c140",
   "metadata": {},
   "outputs": [],
   "source": [
    "def perform_adf_test(series):\n",
    "    result = adfuller(series)\n",
    "    print('ADF Statistic: %f' % result[0])\n",
    "    print('p-value: %f' % result[1])"
   ]
  },
  {
   "cell_type": "markdown",
   "id": "f1c6b1dd",
   "metadata": {},
   "source": [
    "## Ice Cream Production Data of USA"
   ]
  },
  {
   "cell_type": "code",
   "execution_count": 3,
   "id": "81f67041",
   "metadata": {},
   "outputs": [],
   "source": [
    "#read data\n",
    "df_ice_cream = pd.read_csv('ice_cream.csv')"
   ]
  },
  {
   "cell_type": "code",
   "execution_count": 4,
   "id": "e3f4a9f5",
   "metadata": {},
   "outputs": [
    {
     "data": {
      "text/html": [
       "<div>\n",
       "<style scoped>\n",
       "    .dataframe tbody tr th:only-of-type {\n",
       "        vertical-align: middle;\n",
       "    }\n",
       "\n",
       "    .dataframe tbody tr th {\n",
       "        vertical-align: top;\n",
       "    }\n",
       "\n",
       "    .dataframe thead th {\n",
       "        text-align: right;\n",
       "    }\n",
       "</style>\n",
       "<table border=\"1\" class=\"dataframe\">\n",
       "  <thead>\n",
       "    <tr style=\"text-align: right;\">\n",
       "      <th></th>\n",
       "      <th>DATE</th>\n",
       "      <th>IPN31152N</th>\n",
       "    </tr>\n",
       "  </thead>\n",
       "  <tbody>\n",
       "    <tr>\n",
       "      <th>0</th>\n",
       "      <td>1972-01-01</td>\n",
       "      <td>59.9622</td>\n",
       "    </tr>\n",
       "    <tr>\n",
       "      <th>1</th>\n",
       "      <td>1972-02-01</td>\n",
       "      <td>67.0605</td>\n",
       "    </tr>\n",
       "    <tr>\n",
       "      <th>2</th>\n",
       "      <td>1972-03-01</td>\n",
       "      <td>74.2350</td>\n",
       "    </tr>\n",
       "    <tr>\n",
       "      <th>3</th>\n",
       "      <td>1972-04-01</td>\n",
       "      <td>78.1120</td>\n",
       "    </tr>\n",
       "    <tr>\n",
       "      <th>4</th>\n",
       "      <td>1972-05-01</td>\n",
       "      <td>84.7636</td>\n",
       "    </tr>\n",
       "    <tr>\n",
       "      <th>...</th>\n",
       "      <td>...</td>\n",
       "      <td>...</td>\n",
       "    </tr>\n",
       "    <tr>\n",
       "      <th>572</th>\n",
       "      <td>2019-09-01</td>\n",
       "      <td>100.1741</td>\n",
       "    </tr>\n",
       "    <tr>\n",
       "      <th>573</th>\n",
       "      <td>2019-10-01</td>\n",
       "      <td>90.1684</td>\n",
       "    </tr>\n",
       "    <tr>\n",
       "      <th>574</th>\n",
       "      <td>2019-11-01</td>\n",
       "      <td>79.7223</td>\n",
       "    </tr>\n",
       "    <tr>\n",
       "      <th>575</th>\n",
       "      <td>2019-12-01</td>\n",
       "      <td>75.7094</td>\n",
       "    </tr>\n",
       "    <tr>\n",
       "      <th>576</th>\n",
       "      <td>2020-01-01</td>\n",
       "      <td>83.6290</td>\n",
       "    </tr>\n",
       "  </tbody>\n",
       "</table>\n",
       "<p>577 rows × 2 columns</p>\n",
       "</div>"
      ],
      "text/plain": [
       "           DATE  IPN31152N\n",
       "0    1972-01-01    59.9622\n",
       "1    1972-02-01    67.0605\n",
       "2    1972-03-01    74.2350\n",
       "3    1972-04-01    78.1120\n",
       "4    1972-05-01    84.7636\n",
       "..          ...        ...\n",
       "572  2019-09-01   100.1741\n",
       "573  2019-10-01    90.1684\n",
       "574  2019-11-01    79.7223\n",
       "575  2019-12-01    75.7094\n",
       "576  2020-01-01    83.6290\n",
       "\n",
       "[577 rows x 2 columns]"
      ]
     },
     "execution_count": 4,
     "metadata": {},
     "output_type": "execute_result"
    }
   ],
   "source": [
    "df_ice_cream"
   ]
  },
  {
   "cell_type": "code",
   "execution_count": 5,
   "id": "8f1fb0ab",
   "metadata": {},
   "outputs": [],
   "source": [
    "#rename columns to something more understandable\n",
    "df_ice_cream.rename(columns={'DATE':'date', 'IPN31152N':'production'}, inplace=True)"
   ]
  },
  {
   "cell_type": "code",
   "execution_count": 6,
   "id": "2f34b4db",
   "metadata": {},
   "outputs": [],
   "source": [
    "#convert date column to datetime type\n",
    "df_ice_cream['date'] = pd.to_datetime(df_ice_cream.date)"
   ]
  },
  {
   "cell_type": "code",
   "execution_count": 7,
   "id": "c425a824",
   "metadata": {},
   "outputs": [],
   "source": [
    "#set date as index\n",
    "df_ice_cream.set_index('date', inplace=True)"
   ]
  },
  {
   "cell_type": "code",
   "execution_count": 8,
   "id": "365f85d8",
   "metadata": {},
   "outputs": [],
   "source": [
    "#just get data from 2010 onwards\n",
    "start_date = pd.to_datetime('2010-01-01')\n",
    "df_ice_cream = df_ice_cream[start_date:]"
   ]
  },
  {
   "cell_type": "code",
   "execution_count": 9,
   "id": "73bbead4",
   "metadata": {},
   "outputs": [
    {
     "data": {
      "text/html": [
       "<div>\n",
       "<style scoped>\n",
       "    .dataframe tbody tr th:only-of-type {\n",
       "        vertical-align: middle;\n",
       "    }\n",
       "\n",
       "    .dataframe tbody tr th {\n",
       "        vertical-align: top;\n",
       "    }\n",
       "\n",
       "    .dataframe thead th {\n",
       "        text-align: right;\n",
       "    }\n",
       "</style>\n",
       "<table border=\"1\" class=\"dataframe\">\n",
       "  <thead>\n",
       "    <tr style=\"text-align: right;\">\n",
       "      <th></th>\n",
       "      <th>production</th>\n",
       "    </tr>\n",
       "    <tr>\n",
       "      <th>date</th>\n",
       "      <th></th>\n",
       "    </tr>\n",
       "  </thead>\n",
       "  <tbody>\n",
       "    <tr>\n",
       "      <th>2010-01-01</th>\n",
       "      <td>91.2895</td>\n",
       "    </tr>\n",
       "    <tr>\n",
       "      <th>2010-02-01</th>\n",
       "      <td>110.4994</td>\n",
       "    </tr>\n",
       "    <tr>\n",
       "      <th>2010-03-01</th>\n",
       "      <td>127.0971</td>\n",
       "    </tr>\n",
       "    <tr>\n",
       "      <th>2010-04-01</th>\n",
       "      <td>132.6468</td>\n",
       "    </tr>\n",
       "    <tr>\n",
       "      <th>2010-05-01</th>\n",
       "      <td>134.5576</td>\n",
       "    </tr>\n",
       "    <tr>\n",
       "      <th>...</th>\n",
       "      <td>...</td>\n",
       "    </tr>\n",
       "    <tr>\n",
       "      <th>2019-09-01</th>\n",
       "      <td>100.1741</td>\n",
       "    </tr>\n",
       "    <tr>\n",
       "      <th>2019-10-01</th>\n",
       "      <td>90.1684</td>\n",
       "    </tr>\n",
       "    <tr>\n",
       "      <th>2019-11-01</th>\n",
       "      <td>79.7223</td>\n",
       "    </tr>\n",
       "    <tr>\n",
       "      <th>2019-12-01</th>\n",
       "      <td>75.7094</td>\n",
       "    </tr>\n",
       "    <tr>\n",
       "      <th>2020-01-01</th>\n",
       "      <td>83.6290</td>\n",
       "    </tr>\n",
       "  </tbody>\n",
       "</table>\n",
       "<p>121 rows × 1 columns</p>\n",
       "</div>"
      ],
      "text/plain": [
       "            production\n",
       "date                  \n",
       "2010-01-01     91.2895\n",
       "2010-02-01    110.4994\n",
       "2010-03-01    127.0971\n",
       "2010-04-01    132.6468\n",
       "2010-05-01    134.5576\n",
       "...                ...\n",
       "2019-09-01    100.1741\n",
       "2019-10-01     90.1684\n",
       "2019-11-01     79.7223\n",
       "2019-12-01     75.7094\n",
       "2020-01-01     83.6290\n",
       "\n",
       "[121 rows x 1 columns]"
      ]
     },
     "execution_count": 9,
     "metadata": {},
     "output_type": "execute_result"
    }
   ],
   "source": [
    "#show result\n",
    "df_ice_cream"
   ]
  },
  {
   "cell_type": "code",
   "execution_count": 10,
   "id": "3087eb5b",
   "metadata": {},
   "outputs": [
    {
     "data": {
      "image/png": "[encoded data removed]",
      "text/plain": [
       "<Figure size 720x288 with 1 Axes>"
      ]
     },
     "metadata": {
      "needs_background": "light"
     },
     "output_type": "display_data"
    }
   ],
   "source": [
    "plt.figure(figsize=(10,4))\n",
    "plt.plot(df_ice_cream.production)\n",
    "plt.title('Ice Cream Production over Time', fontsize=20)\n",
    "plt.ylabel('Production', fontsize=16)\n",
    "for year in range(2011,2021):\n",
    "    plt.axvline(pd.to_datetime(str(year)+'-01-01'), color='k', linestyle='--', alpha=0.2)"
   ]
  },
  {
   "cell_type": "markdown",
   "id": "f79fca02",
   "metadata": {},
   "source": [
    "### ACF"
   ]
  },
  {
   "cell_type": "code",
   "execution_count": 11,
   "id": "1a26ebe0",
   "metadata": {},
   "outputs": [
    {
     "data": {
      "image/png": "[encoded data removed]",
      "text/plain": [
       "<Figure size 432x288 with 1 Axes>"
      ]
     },
     "metadata": {
      "needs_background": "light"
     },
     "output_type": "display_data"
    }
   ],
   "source": [
    "acf_plot = plot_acf(df_ice_cream.production, lags=100)"
   ]
  },
  {
   "cell_type": "markdown",
   "id": "5e98fcc7",
   "metadata": {},
   "source": [
    "### PACF"
   ]
  },
  {
   "cell_type": "code",
   "execution_count": 12,
   "id": "c5068d61",
   "metadata": {},
   "outputs": [
    {
     "name": "stderr",
     "output_type": "stream",
     "text": [
      "C:\\Users\\user\\AppData\\Roaming\\Python\\Python310\\site-packages\\statsmodels\\graphics\\tsaplots.py:348: FutureWarning: The default method 'yw' can produce PACF values outside of the [-1,1] interval. After 0.13, the default will change tounadjusted Yule-Walker ('ywm'). You can use this method now by setting method='ywm'.\n",
      "  warnings.warn(\n"
     ]
    },
    {
     "data": {
      "image/png": "[encoded data removed]",
      "text/plain": [
       "<Figure size 432x288 with 1 Axes>"
      ]
     },
     "metadata": {
      "needs_background": "light"
     },
     "output_type": "display_data"
    }
   ],
   "source": [
    "pacf_plot = plot_pacf(df_ice_cream.production)"
   ]
  },
  {
   "cell_type": "markdown",
   "id": "d2be48b4",
   "metadata": {},
   "source": [
    "## Stock data"
   ]
  },
  {
   "cell_type": "code",
   "execution_count": 13,
   "id": "67f76556",
   "metadata": {},
   "outputs": [],
   "source": [
    "import yfinance as yf"
   ]
  },
  {
   "cell_type": "code",
   "execution_count": 14,
   "id": "f8588af0",
   "metadata": {},
   "outputs": [],
   "source": [
    "#define the ticker symbol\n",
    "tickerSymbol = 'GOOGL'"
   ]
  },
  {
   "cell_type": "code",
   "execution_count": 15,
   "id": "0fc91d17",
   "metadata": {},
   "outputs": [],
   "source": [
    "#get data on this ticker\n",
    "tickerData = yf.Ticker(tickerSymbol)"
   ]
  },
  {
   "cell_type": "code",
   "execution_count": 16,
   "id": "7b6519f4",
   "metadata": {},
   "outputs": [],
   "source": [
    "#get the historical prices for this ticker\n",
    "tickerDf = tickerData.history(period='1d', start='2020-1-1', end='2022-10-30')"
   ]
  },
  {
   "cell_type": "code",
   "execution_count": 17,
   "id": "25271cba",
   "metadata": {},
   "outputs": [],
   "source": [
    "tickerDf = tickerDf[['Close']]"
   ]
  },
  {
   "cell_type": "code",
   "execution_count": 18,
   "id": "5bd99149",
   "metadata": {},
   "outputs": [
    {
     "data": {
      "text/html": [
       "<div>\n",
       "<style scoped>\n",
       "    .dataframe tbody tr th:only-of-type {\n",
       "        vertical-align: middle;\n",
       "    }\n",
       "\n",
       "    .dataframe tbody tr th {\n",
       "        vertical-align: top;\n",
       "    }\n",
       "\n",
       "    .dataframe thead th {\n",
       "        text-align: right;\n",
       "    }\n",
       "</style>\n",
       "<table border=\"1\" class=\"dataframe\">\n",
       "  <thead>\n",
       "    <tr style=\"text-align: right;\">\n",
       "      <th></th>\n",
       "      <th>Close</th>\n",
       "    </tr>\n",
       "    <tr>\n",
       "      <th>Date</th>\n",
       "      <th></th>\n",
       "    </tr>\n",
       "  </thead>\n",
       "  <tbody>\n",
       "    <tr>\n",
       "      <th>2019-12-31</th>\n",
       "      <td>66.969498</td>\n",
       "    </tr>\n",
       "    <tr>\n",
       "      <th>2020-01-02</th>\n",
       "      <td>68.433998</td>\n",
       "    </tr>\n",
       "    <tr>\n",
       "      <th>2020-01-03</th>\n",
       "      <td>68.075996</td>\n",
       "    </tr>\n",
       "    <tr>\n",
       "      <th>2020-01-06</th>\n",
       "      <td>69.890503</td>\n",
       "    </tr>\n",
       "    <tr>\n",
       "      <th>2020-01-07</th>\n",
       "      <td>69.755501</td>\n",
       "    </tr>\n",
       "    <tr>\n",
       "      <th>...</th>\n",
       "      <td>...</td>\n",
       "    </tr>\n",
       "    <tr>\n",
       "      <th>2022-10-24</th>\n",
       "      <td>102.519997</td>\n",
       "    </tr>\n",
       "    <tr>\n",
       "      <th>2022-10-25</th>\n",
       "      <td>104.480003</td>\n",
       "    </tr>\n",
       "    <tr>\n",
       "      <th>2022-10-26</th>\n",
       "      <td>94.930000</td>\n",
       "    </tr>\n",
       "    <tr>\n",
       "      <th>2022-10-27</th>\n",
       "      <td>92.220001</td>\n",
       "    </tr>\n",
       "    <tr>\n",
       "      <th>2022-10-28</th>\n",
       "      <td>96.290001</td>\n",
       "    </tr>\n",
       "  </tbody>\n",
       "</table>\n",
       "<p>714 rows × 1 columns</p>\n",
       "</div>"
      ],
      "text/plain": [
       "                 Close\n",
       "Date                  \n",
       "2019-12-31   66.969498\n",
       "2020-01-02   68.433998\n",
       "2020-01-03   68.075996\n",
       "2020-01-06   69.890503\n",
       "2020-01-07   69.755501\n",
       "...                ...\n",
       "2022-10-24  102.519997\n",
       "2022-10-25  104.480003\n",
       "2022-10-26   94.930000\n",
       "2022-10-27   92.220001\n",
       "2022-10-28   96.290001\n",
       "\n",
       "[714 rows x 1 columns]"
      ]
     },
     "execution_count": 18,
     "metadata": {},
     "output_type": "execute_result"
    }
   ],
   "source": [
    "#see your data\n",
    "tickerDf"
   ]
  },
  {
   "cell_type": "code",
   "execution_count": 19,
   "id": "676ef5af",
   "metadata": {},
   "outputs": [
    {
     "data": {
      "image/png": "[encoded data removed]",
      "text/plain": [
       "<Figure size 720x288 with 1 Axes>"
      ]
     },
     "metadata": {
      "needs_background": "light"
     },
     "output_type": "display_data"
    }
   ],
   "source": [
    "plt.figure(figsize=(10,4))\n",
    "plt.plot(tickerDf.Close)\n",
    "plt.title('Stock Price over Time (%s)'%tickerSymbol, fontsize=20)\n",
    "plt.ylabel('Price', fontsize=16)\n",
    "for year in range(2020,2023):\n",
    "    plt.axvline(pd.to_datetime(str(year)+'-01-01'), color='k', linestyle='--', alpha=0.2)"
   ]
  },
  {
   "cell_type": "markdown",
   "id": "49826f46",
   "metadata": {},
   "source": [
    "### Stationarity: take first difference of this series"
   ]
  },
  {
   "cell_type": "code",
   "execution_count": 20,
   "id": "2727fdc5",
   "metadata": {},
   "outputs": [],
   "source": [
    "#take first difference\n",
    "first_diffs = tickerDf.Close.values[1:] - tickerDf.Close.values[:-1]\n",
    "first_diffs = np.concatenate([first_diffs, [0]])"
   ]
  },
  {
   "cell_type": "code",
   "execution_count": 21,
   "id": "77cfd94b",
   "metadata": {},
   "outputs": [],
   "source": [
    "#set first difference as variable in dataframe\n",
    "tickerDf['FirstDifference'] = first_diffs"
   ]
  },
  {
   "cell_type": "code",
   "execution_count": 22,
   "id": "2db90dad",
   "metadata": {},
   "outputs": [
    {
     "data": {
      "text/html": [
       "<div>\n",
       "<style scoped>\n",
       "    .dataframe tbody tr th:only-of-type {\n",
       "        vertical-align: middle;\n",
       "    }\n",
       "\n",
       "    .dataframe tbody tr th {\n",
       "        vertical-align: top;\n",
       "    }\n",
       "\n",
       "    .dataframe thead th {\n",
       "        text-align: right;\n",
       "    }\n",
       "</style>\n",
       "<table border=\"1\" class=\"dataframe\">\n",
       "  <thead>\n",
       "    <tr style=\"text-align: right;\">\n",
       "      <th></th>\n",
       "      <th>Close</th>\n",
       "      <th>FirstDifference</th>\n",
       "    </tr>\n",
       "    <tr>\n",
       "      <th>Date</th>\n",
       "      <th></th>\n",
       "      <th></th>\n",
       "    </tr>\n",
       "  </thead>\n",
       "  <tbody>\n",
       "    <tr>\n",
       "      <th>2019-12-31</th>\n",
       "      <td>66.969498</td>\n",
       "      <td>1.464500</td>\n",
       "    </tr>\n",
       "    <tr>\n",
       "      <th>2020-01-02</th>\n",
       "      <td>68.433998</td>\n",
       "      <td>-0.358002</td>\n",
       "    </tr>\n",
       "    <tr>\n",
       "      <th>2020-01-03</th>\n",
       "      <td>68.075996</td>\n",
       "      <td>1.814507</td>\n",
       "    </tr>\n",
       "    <tr>\n",
       "      <th>2020-01-06</th>\n",
       "      <td>69.890503</td>\n",
       "      <td>-0.135002</td>\n",
       "    </tr>\n",
       "    <tr>\n",
       "      <th>2020-01-07</th>\n",
       "      <td>69.755501</td>\n",
       "      <td>0.496498</td>\n",
       "    </tr>\n",
       "  </tbody>\n",
       "</table>\n",
       "</div>"
      ],
      "text/plain": [
       "                Close  FirstDifference\n",
       "Date                                  \n",
       "2019-12-31  66.969498         1.464500\n",
       "2020-01-02  68.433998        -0.358002\n",
       "2020-01-03  68.075996         1.814507\n",
       "2020-01-06  69.890503        -0.135002\n",
       "2020-01-07  69.755501         0.496498"
      ]
     },
     "execution_count": 22,
     "metadata": {},
     "output_type": "execute_result"
    }
   ],
   "source": [
    "tickerDf.head()"
   ]
  },
  {
   "cell_type": "code",
   "execution_count": 24,
   "id": "622615a7",
   "metadata": {},
   "outputs": [
    {
     "name": "stdout",
     "output_type": "stream",
     "text": [
      "ADF Statistic: -29.193351\n",
      "p-value: 0.000000\n"
     ]
    }
   ],
   "source": [
    "perform_adf_test(tickerDf['FirstDifference'])"
   ]
  },
  {
   "cell_type": "code",
   "execution_count": null,
   "id": "8b7d6b29",
   "metadata": {},
   "outputs": [],
   "source": [
    "plt.figure(figsize=(10,4))\n",
    "plt.plot(tickerDf.FirstDifference)\n",
    "plt.title('First Difference over Time (%s)'%tickerSymbol, fontsize=20)\n",
    "plt.ylabel('Price Difference', fontsize=16)\n",
    "for year in range(2020,2023):\n",
    "    plt.axvline(pd.to_datetime(str(year)+'-01-01'), color='k', linestyle='--', alpha=0.2)"
   ]
  },
  {
   "cell_type": "markdown",
   "id": "4c7c9d5f",
   "metadata": {},
   "source": [
    "### ACF"
   ]
  },
  {
   "cell_type": "code",
   "execution_count": 25,
   "id": "0c8a2388",
   "metadata": {},
   "outputs": [
    {
     "data": {
      "image/png": "[encoded data removed]",
      "text/plain": [
       "<Figure size 432x288 with 1 Axes>"
      ]
     },
     "metadata": {
      "needs_background": "light"
     },
     "output_type": "display_data"
    }
   ],
   "source": [
    "acf_plot = plot_acf(tickerDf.FirstDifference)"
   ]
  },
  {
   "cell_type": "markdown",
   "id": "5f6e0792",
   "metadata": {},
   "source": [
    "### PACF"
   ]
  },
  {
   "cell_type": "code",
   "execution_count": 26,
   "id": "0892a51b",
   "metadata": {},
   "outputs": [
    {
     "name": "stderr",
     "output_type": "stream",
     "text": [
      "C:\\Users\\user\\AppData\\Roaming\\Python\\Python310\\site-packages\\statsmodels\\graphics\\tsaplots.py:348: FutureWarning: The default method 'yw' can produce PACF values outside of the [-1,1] interval. After 0.13, the default will change tounadjusted Yule-Walker ('ywm'). You can use this method now by setting method='ywm'.\n",
      "  warnings.warn(\n"
     ]
    },
    {
     "data": {
      "image/png": "[encoded data removed]",
      "text/plain": [
       "<Figure size 432x288 with 1 Axes>"
      ]
     },
     "metadata": {
      "needs_background": "light"
     },
     "output_type": "display_data"
    }
   ],
   "source": [
    "pacf_plot = plot_pacf(tickerDf.FirstDifference)"
   ]
  },
  {
   "cell_type": "code",
   "execution_count": null,
   "id": "a5fbcb9f",
   "metadata": {},
   "outputs": [],
   "source": []
  }
 ],
 "metadata": {
  "kernelspec": {
   "display_name": "Python 3 (ipykernel)",
   "language": "python",
   "name": "python3"
  },
  "language_info": {
   "codemirror_mode": {
    "name": "ipython",
    "version": 3
   },
   "file_extension": ".py",
   "mimetype": "text/x-python",
   "name": "python",
   "nbconvert_exporter": "python",
   "pygments_lexer": "ipython3",
   "version": "3.10.1"
  }
 },
 "nbformat": 4,
 "nbformat_minor": 5
}
